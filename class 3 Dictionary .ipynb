{
 "cells": [
  {
   "cell_type": "code",
   "execution_count": 1,
   "id": "1bf34403",
   "metadata": {},
   "outputs": [],
   "source": [
    "my_dict = {'key1': 'value1', 'key2' : 'value2'}"
   ]
  },
  {
   "cell_type": "code",
   "execution_count": 2,
   "id": "a2e28e1a",
   "metadata": {},
   "outputs": [
    {
     "data": {
      "text/plain": [
       "{'key1': 'value1', 'key2': 'value2'}"
      ]
     },
     "execution_count": 2,
     "metadata": {},
     "output_type": "execute_result"
    }
   ],
   "source": [
    "my_dict"
   ]
  },
  {
   "cell_type": "code",
   "execution_count": 3,
   "id": "2c2ae1c9",
   "metadata": {},
   "outputs": [
    {
     "data": {
      "text/plain": [
       "'value2'"
      ]
     },
     "execution_count": 3,
     "metadata": {},
     "output_type": "execute_result"
    }
   ],
   "source": [
    "my_dict['key2']"
   ]
  },
  {
   "cell_type": "code",
   "execution_count": 4,
   "id": "fb74afef",
   "metadata": {},
   "outputs": [],
   "source": [
    "my_dict = {'roll': 123, 'marks': [12,12,23,21], 'subject': ['math', 'sci', 'hindi', 'eng']}"
   ]
  },
  {
   "cell_type": "code",
   "execution_count": 5,
   "id": "dc3a0241",
   "metadata": {},
   "outputs": [
    {
     "data": {
      "text/plain": [
       "['math', 'sci', 'hindi', 'eng']"
      ]
     },
     "execution_count": 5,
     "metadata": {},
     "output_type": "execute_result"
    }
   ],
   "source": []
  },
  {
   "cell_type": "code",
   "execution_count": 6,
   "id": "d6be10c1",
   "metadata": {},
   "outputs": [
    {
     "data": {
      "text/plain": [
       "[12, 12, 23, 21]"
      ]
     },
     "execution_count": 6,
     "metadata": {},
     "output_type": "execute_result"
    }
   ],
   "source": [
    "my_dict['marks']"
   ]
  },
  {
   "cell_type": "code",
   "execution_count": 7,
   "id": "65fecc5a",
   "metadata": {},
   "outputs": [
    {
     "data": {
      "text/plain": [
       "21"
      ]
     },
     "execution_count": 7,
     "metadata": {},
     "output_type": "execute_result"
    }
   ],
   "source": [
    "my_dict[\"marks\"][3]"
   ]
  },
  {
   "cell_type": "code",
   "execution_count": 8,
   "id": "877b1a90",
   "metadata": {},
   "outputs": [
    {
     "data": {
      "text/plain": [
       "23"
      ]
     },
     "execution_count": 8,
     "metadata": {},
     "output_type": "execute_result"
    }
   ],
   "source": [
    "my_dict['marks'][2]"
   ]
  },
  {
   "cell_type": "code",
   "execution_count": 9,
   "id": "d33e9ba4",
   "metadata": {},
   "outputs": [
    {
     "data": {
      "text/plain": [
       "'hindi'"
      ]
     },
     "execution_count": 9,
     "metadata": {},
     "output_type": "execute_result"
    }
   ],
   "source": [
    "my_dict['subject'][2]"
   ]
  },
  {
   "cell_type": "code",
   "execution_count": 10,
   "id": "1a03e2fe",
   "metadata": {},
   "outputs": [
    {
     "data": {
      "text/plain": [
       "'HINDI'"
      ]
     },
     "execution_count": 10,
     "metadata": {},
     "output_type": "execute_result"
    }
   ],
   "source": [
    "my_dict['subject'][2].upper()"
   ]
  },
  {
   "cell_type": "code",
   "execution_count": 14,
   "id": "b878d71f",
   "metadata": {},
   "outputs": [
    {
     "data": {
      "text/plain": [
       "'SCI'"
      ]
     },
     "execution_count": 14,
     "metadata": {},
     "output_type": "execute_result"
    }
   ],
   "source": [
    "my_dict['subject'][1].upper()"
   ]
  },
  {
   "cell_type": "code",
   "execution_count": 16,
   "id": "c77aab00",
   "metadata": {},
   "outputs": [
    {
     "data": {
      "text/plain": [
       "[12, 12, 23, 21]"
      ]
     },
     "execution_count": 16,
     "metadata": {},
     "output_type": "execute_result"
    }
   ],
   "source": [
    "my_dict['marks']\n"
   ]
  },
  {
   "cell_type": "code",
   "execution_count": 17,
   "id": "fa09b79b",
   "metadata": {},
   "outputs": [],
   "source": [
    "my_dict['marks'][0] = my_dict['marks'][0] +30"
   ]
  },
  {
   "cell_type": "code",
   "execution_count": 18,
   "id": "566558f6",
   "metadata": {},
   "outputs": [
    {
     "data": {
      "text/plain": [
       "[42, 12, 23, 21]"
      ]
     },
     "execution_count": 18,
     "metadata": {},
     "output_type": "execute_result"
    }
   ],
   "source": [
    "my_dict['marks']"
   ]
  },
  {
   "cell_type": "code",
   "execution_count": 19,
   "id": "9e5c937f",
   "metadata": {
    "scrolled": true
   },
   "outputs": [
    {
     "ename": "TypeError",
     "evalue": "can only concatenate list (not \"int\") to list",
     "output_type": "error",
     "traceback": [
      "\u001b[1;31m---------------------------------------------------------------------------\u001b[0m",
      "\u001b[1;31mTypeError\u001b[0m                                 Traceback (most recent call last)",
      "Input \u001b[1;32mIn [19]\u001b[0m, in \u001b[0;36m<cell line: 1>\u001b[1;34m()\u001b[0m\n\u001b[1;32m----> 1\u001b[0m \u001b[43mmy_dict\u001b[49m\u001b[43m[\u001b[49m\u001b[38;5;124;43m'\u001b[39;49m\u001b[38;5;124;43mmarks\u001b[39;49m\u001b[38;5;124;43m'\u001b[39;49m\u001b[43m]\u001b[49m\u001b[43m \u001b[49m\u001b[38;5;241;43m+\u001b[39;49m\u001b[43m \u001b[49m\u001b[38;5;241;43m30\u001b[39;49m\n",
      "\u001b[1;31mTypeError\u001b[0m: can only concatenate list (not \"int\") to list"
     ]
    }
   ],
   "source": [
    "my_dict['marks'] + 30"
   ]
  },
  {
   "cell_type": "code",
   "execution_count": 20,
   "id": "20840b1a",
   "metadata": {},
   "outputs": [
    {
     "data": {
      "text/plain": [
       "[42, 12, 23, 21]"
      ]
     },
     "execution_count": 20,
     "metadata": {},
     "output_type": "execute_result"
    }
   ],
   "source": [
    "my_dict['marks']"
   ]
  },
  {
   "cell_type": "code",
   "execution_count": 21,
   "id": "d226bbbe",
   "metadata": {},
   "outputs": [],
   "source": [
    "my_dict['marks'][1]+=20"
   ]
  },
  {
   "cell_type": "code",
   "execution_count": 23,
   "id": "bf5a7622",
   "metadata": {},
   "outputs": [
    {
     "data": {
      "text/plain": [
       "{'roll': 123,\n",
       " 'marks': [42, 32, 23, 21],\n",
       " 'subject': ['math', 'sci', 'hindi', 'eng']}"
      ]
     },
     "execution_count": 23,
     "metadata": {},
     "output_type": "execute_result"
    }
   ],
   "source": [
    "my_dict"
   ]
  },
  {
   "cell_type": "code",
   "execution_count": 24,
   "id": "13102ada",
   "metadata": {},
   "outputs": [
    {
     "data": {
      "text/plain": [
       "[42, 32, 23, 21]"
      ]
     },
     "execution_count": 24,
     "metadata": {},
     "output_type": "execute_result"
    }
   ],
   "source": [
    "my_dict['marks']"
   ]
  },
  {
   "cell_type": "code",
   "execution_count": 25,
   "id": "227c7a86",
   "metadata": {},
   "outputs": [],
   "source": [
    "my_dict['marks'][0]-=2"
   ]
  },
  {
   "cell_type": "code",
   "execution_count": 26,
   "id": "540dfb9a",
   "metadata": {},
   "outputs": [
    {
     "data": {
      "text/plain": [
       "[40, 32, 23, 21]"
      ]
     },
     "execution_count": 26,
     "metadata": {},
     "output_type": "execute_result"
    }
   ],
   "source": [
    "my_dict['marks']"
   ]
  },
  {
   "cell_type": "code",
   "execution_count": 28,
   "id": "bf6c7a16",
   "metadata": {},
   "outputs": [],
   "source": [
    "my_dict['year'] = '3rd'"
   ]
  },
  {
   "cell_type": "code",
   "execution_count": 29,
   "id": "62ec1f3f",
   "metadata": {},
   "outputs": [
    {
     "data": {
      "text/plain": [
       "{'roll': 123,\n",
       " 'marks': [40, 32, 23, 21],\n",
       " 'subject': ['math', 'sci', 'hindi', 'eng'],\n",
       " 'year': '3rd'}"
      ]
     },
     "execution_count": 29,
     "metadata": {},
     "output_type": "execute_result"
    }
   ],
   "source": [
    "my_dict"
   ]
  },
  {
   "cell_type": "code",
   "execution_count": 30,
   "id": "fdced5ef",
   "metadata": {},
   "outputs": [],
   "source": [
    "my_dict.update({'roll' : 100})"
   ]
  },
  {
   "cell_type": "code",
   "execution_count": 31,
   "id": "950fde34",
   "metadata": {},
   "outputs": [
    {
     "data": {
      "text/plain": [
       "{'roll': 100,\n",
       " 'marks': [40, 32, 23, 21],\n",
       " 'subject': ['math', 'sci', 'hindi', 'eng'],\n",
       " 'year': '3rd'}"
      ]
     },
     "execution_count": 31,
     "metadata": {},
     "output_type": "execute_result"
    }
   ],
   "source": [
    "my_dict\n"
   ]
  },
  {
   "cell_type": "code",
   "execution_count": 33,
   "id": "4639bab5",
   "metadata": {},
   "outputs": [
    {
     "data": {
      "text/plain": [
       "dict_keys(['roll', 'marks', 'subject', 'year'])"
      ]
     },
     "execution_count": 33,
     "metadata": {},
     "output_type": "execute_result"
    }
   ],
   "source": [
    "my_dict.keys()"
   ]
  },
  {
   "cell_type": "code",
   "execution_count": 36,
   "id": "5f1b249b",
   "metadata": {},
   "outputs": [
    {
     "data": {
      "text/plain": [
       "dict_values([100, [40, 32, 23, 21], ['math', 'sci', 'hindi', 'eng'], '3rd'])"
      ]
     },
     "execution_count": 36,
     "metadata": {},
     "output_type": "execute_result"
    }
   ],
   "source": [
    "my_dict.values()"
   ]
  },
  {
   "cell_type": "code",
   "execution_count": 38,
   "id": "ead85904",
   "metadata": {},
   "outputs": [
    {
     "data": {
      "text/plain": [
       "dict_items([('roll', 100), ('marks', [40, 32, 23, 21]), ('subject', ['math', 'sci', 'hindi', 'eng']), ('year', '3rd')])"
      ]
     },
     "execution_count": 38,
     "metadata": {},
     "output_type": "execute_result"
    }
   ],
   "source": [
    "my_dict.items()"
   ]
  },
  {
   "cell_type": "code",
   "execution_count": 43,
   "id": "1d438b5f",
   "metadata": {},
   "outputs": [
    {
     "name": "stdout",
     "output_type": "stream",
     "text": [
      "it is greaterthan 20\n"
     ]
    }
   ],
   "source": [
    "i=21\n",
    "\n",
    "if i>20:\n",
    "    print('it is greaterthan 20')\n",
    "    \n",
    "elif i<20:\n",
    "    print('it is lessthan 20')\n",
    "    \n",
    "else:\n",
    "    print('it is different')"
   ]
  },
  {
   "cell_type": "code",
   "execution_count": 46,
   "id": "958a399b",
   "metadata": {},
   "outputs": [
    {
     "name": "stdout",
     "output_type": "stream",
     "text": [
      "please add 150 Rs worth for free shipping\n"
     ]
    }
   ],
   "source": [
    "p1 = 100\n",
    "\n",
    "p2 = 250\n",
    "\n",
    "if(p1 +p2) >=500:\n",
    "    print('your item is ready for free shiping')\n",
    "    \n",
    "else:\n",
    "    extra = 500 - (p1 +p2)\n",
    "    print('please add', extra, 'Rs worth for free shipping')"
   ]
  },
  {
   "cell_type": "code",
   "execution_count": 49,
   "id": "3f274e9a",
   "metadata": {},
   "outputs": [
    {
     "name": "stdout",
     "output_type": "stream",
     "text": [
      "fail\n"
     ]
    }
   ],
   "source": [
    "marks = 30\n",
    "\n",
    "if marks>=60:\n",
    "    if marks>70:\n",
    "        print('distinction')\n",
    "        \n",
    "    else:\n",
    "        print('first div')\n",
    "        \n",
    "elif 50<marks<60:\n",
    "    print('second div')\n",
    "    \n",
    "elif marks>=35:\n",
    "    print('third div')\n",
    "    \n",
    "else:\n",
    "    print('fail')\n"
   ]
  },
  {
   "cell_type": "code",
   "execution_count": 50,
   "id": "5736a2ae",
   "metadata": {},
   "outputs": [
    {
     "name": "stdout",
     "output_type": "stream",
     "text": [
      "range(0, 10)\n"
     ]
    }
   ],
   "source": [
    "print(range(10))"
   ]
  },
  {
   "cell_type": "code",
   "execution_count": 51,
   "id": "669f58d1",
   "metadata": {},
   "outputs": [
    {
     "name": "stdout",
     "output_type": "stream",
     "text": [
      "[0, 1, 2, 3, 4, 5, 6, 7, 8, 9]\n"
     ]
    }
   ],
   "source": [
    "print(list(range(10)))"
   ]
  },
  {
   "cell_type": "code",
   "execution_count": 52,
   "id": "c46bac06",
   "metadata": {},
   "outputs": [],
   "source": [
    "roll = list(range(1,20))"
   ]
  },
  {
   "cell_type": "code",
   "execution_count": 53,
   "id": "382201e0",
   "metadata": {},
   "outputs": [
    {
     "data": {
      "text/plain": [
       "[1, 2, 3, 4, 5, 6, 7, 8, 9, 10, 11, 12, 13, 14, 15, 16, 17, 18, 19]"
      ]
     },
     "execution_count": 53,
     "metadata": {},
     "output_type": "execute_result"
    }
   ],
   "source": [
    "roll"
   ]
  },
  {
   "cell_type": "code",
   "execution_count": 56,
   "id": "c0000c39",
   "metadata": {},
   "outputs": [],
   "source": [
    "roll = list(range(1,20, 4))"
   ]
  },
  {
   "cell_type": "code",
   "execution_count": 57,
   "id": "3bef9e5f",
   "metadata": {},
   "outputs": [
    {
     "data": {
      "text/plain": [
       "[1, 5, 9, 13, 17]"
      ]
     },
     "execution_count": 57,
     "metadata": {},
     "output_type": "execute_result"
    }
   ],
   "source": [
    "roll"
   ]
  },
  {
   "cell_type": "code",
   "execution_count": 58,
   "id": "0d7e8f18",
   "metadata": {},
   "outputs": [],
   "source": [
    "roll = list(range(1700,-1,-100))"
   ]
  },
  {
   "cell_type": "code",
   "execution_count": 59,
   "id": "37ed4f39",
   "metadata": {},
   "outputs": [
    {
     "data": {
      "text/plain": [
       "[1700,\n",
       " 1600,\n",
       " 1500,\n",
       " 1400,\n",
       " 1300,\n",
       " 1200,\n",
       " 1100,\n",
       " 1000,\n",
       " 900,\n",
       " 800,\n",
       " 700,\n",
       " 600,\n",
       " 500,\n",
       " 400,\n",
       " 300,\n",
       " 200,\n",
       " 100,\n",
       " 0]"
      ]
     },
     "execution_count": 59,
     "metadata": {},
     "output_type": "execute_result"
    }
   ],
   "source": [
    "roll"
   ]
  },
  {
   "cell_type": "code",
   "execution_count": 60,
   "id": "8427d3f9",
   "metadata": {},
   "outputs": [
    {
     "name": "stdout",
     "output_type": "stream",
     "text": [
      "456\n",
      "65\n",
      "43\n",
      "43\n",
      "44\n"
     ]
    }
   ],
   "source": [
    "salary = [20,23,34,456,65,43,32,23,43,33,44,22]\n",
    "\n",
    "for val in salary:\n",
    "    if val>40:\n",
    "        print(val)"
   ]
  },
  {
   "cell_type": "code",
   "execution_count": 64,
   "id": "7c483961",
   "metadata": {},
   "outputs": [
    {
     "name": "stdout",
     "output_type": "stream",
     "text": [
      "45 pass\n",
      "44 pass\n",
      "56 second div\n",
      "65 first Class\n",
      "34 fail\n",
      "45 pass\n",
      "65 first Class\n",
      "77 distinction\n",
      "88 distinction\n",
      "76 distinction\n",
      "56 second div\n",
      "60 pass\n"
     ]
    }
   ],
   "source": [
    "marks = [45,44,56,65,34,45,65,77,88,76,56,60]\n",
    "\n",
    "for val in marks:\n",
    "    if val>60:\n",
    "        if val>70:\n",
    "            print(val,'distinction')\n",
    "            \n",
    "        else:\n",
    "            print(val,'first Class')\n",
    "            \n",
    "    elif 50<val<60:\n",
    "        print(val,'second div')\n",
    "        \n",
    "    elif val>35:\n",
    "        print(val,'pass')\n",
    "        \n",
    "    else:\n",
    "        print(val,'fail')"
   ]
  },
  {
   "cell_type": "code",
   "execution_count": 65,
   "id": "c6b3233c",
   "metadata": {},
   "outputs": [
    {
     "data": {
      "text/plain": [
       "[0, 2, 4, 6, 8, 10, 12, 14, 16, 18, 20, 22, 24, 26, 28, 30, 32, 34, 36, 38]"
      ]
     },
     "execution_count": 65,
     "metadata": {},
     "output_type": "execute_result"
    }
   ],
   "source": [
    "step_size = list(range(0,40,2))\n",
    "step_size"
   ]
  },
  {
   "cell_type": "code",
   "execution_count": 68,
   "id": "2fb5bacd",
   "metadata": {},
   "outputs": [],
   "source": [
    "step_size = list(range(1600, -1, -50))"
   ]
  },
  {
   "cell_type": "code",
   "execution_count": 69,
   "id": "df521029",
   "metadata": {},
   "outputs": [
    {
     "data": {
      "text/plain": [
       "[1600,\n",
       " 1550,\n",
       " 1500,\n",
       " 1450,\n",
       " 1400,\n",
       " 1350,\n",
       " 1300,\n",
       " 1250,\n",
       " 1200,\n",
       " 1150,\n",
       " 1100,\n",
       " 1050,\n",
       " 1000,\n",
       " 950,\n",
       " 900,\n",
       " 850,\n",
       " 800,\n",
       " 750,\n",
       " 700,\n",
       " 650,\n",
       " 600,\n",
       " 550,\n",
       " 500,\n",
       " 450,\n",
       " 400,\n",
       " 350,\n",
       " 300,\n",
       " 250,\n",
       " 200,\n",
       " 150,\n",
       " 100,\n",
       " 50,\n",
       " 0]"
      ]
     },
     "execution_count": 69,
     "metadata": {},
     "output_type": "execute_result"
    }
   ],
   "source": [
    "step_size"
   ]
  },
  {
   "cell_type": "code",
   "execution_count": 70,
   "id": "b4e084a3",
   "metadata": {},
   "outputs": [
    {
     "name": "stdout",
     "output_type": "stream",
     "text": [
      "rke\n",
      "har\n",
      "npoida\n",
      "chennai\n"
     ]
    }
   ],
   "source": [
    "location = ['rke','har', 'npoida', 'chennai']\n",
    "\n",
    "for city in location:\n",
    "    print(city)"
   ]
  },
  {
   "cell_type": "code",
   "execution_count": 73,
   "id": "70866e6a",
   "metadata": {},
   "outputs": [
    {
     "name": "stdout",
     "output_type": "stream",
     "text": [
      "43000\n",
      "42000\n",
      "32000\n",
      "43000\n"
     ]
    }
   ],
   "source": [
    "salary = [3000.44000,43000,42000,32000,43000,23000]\n",
    "\n",
    "for val in salary:\n",
    "    if val>23000:\n",
    "        print(val)"
   ]
  },
  {
   "cell_type": "code",
   "execution_count": 74,
   "id": "0813c9c0",
   "metadata": {
    "scrolled": true
   },
   "outputs": [
    {
     "name": "stdout",
     "output_type": "stream",
     "text": [
      "43 pass\n",
      "44 pass\n",
      "55 second div\n",
      "66 first div\n",
      "77 distinction\n",
      "88 distinction\n",
      "99 distinction\n",
      "98 distinction\n",
      "76 distinction\n",
      "56 second div\n",
      "74 distinction\n",
      "54 second div\n",
      "65 first div\n",
      "64 first div\n",
      "66 first div\n",
      "60 first div\n"
     ]
    }
   ],
   "source": [
    "marks = [43,44,55,66,77,88,99,98,76,56,74,54,65,64,66,60]\n",
    "\n",
    "for val in marks:\n",
    "    if val>=60:\n",
    "        if val>70:\n",
    "            print(val, 'distinction')\n",
    "            \n",
    "        else:\n",
    "            print(val, \"first div\")\n",
    "            \n",
    "    elif 50<val<60:\n",
    "        print(val,'second div')\n",
    "        \n",
    "    elif val >=35:\n",
    "        print(val, 'pass')\n",
    "        \n",
    "    else:\n",
    "        print(val, 'fail')\n",
    "        \n"
   ]
  },
  {
   "cell_type": "code",
   "execution_count": 75,
   "id": "c0e786c1",
   "metadata": {},
   "outputs": [
    {
     "name": "stdout",
     "output_type": "stream",
     "text": [
      "33000\n",
      "43000\n",
      "33000\n",
      "65000\n"
     ]
    }
   ],
   "source": [
    "salary = [33000,3300,43000,3400,2300,33000,2300,6500,65000]\n",
    "\n",
    "for val in salary:\n",
    "    if val>=33000:\n",
    "        print(val)"
   ]
  },
  {
   "cell_type": "code",
   "execution_count": 78,
   "id": "89cb968d",
   "metadata": {},
   "outputs": [
    {
     "name": "stdout",
     "output_type": "stream",
     "text": [
      "multiplication table for- 3\n",
      "3\n",
      "6\n",
      "9\n",
      "12\n",
      "15\n",
      "18\n",
      "21\n",
      "24\n",
      "27\n",
      "30\n",
      "\n",
      "\n",
      "multiplication table for- 4\n",
      "4\n",
      "8\n",
      "12\n",
      "16\n",
      "20\n",
      "24\n",
      "28\n",
      "32\n",
      "36\n",
      "40\n",
      "\n",
      "\n",
      "multiplication table for- 5\n",
      "5\n",
      "10\n",
      "15\n",
      "20\n",
      "25\n",
      "30\n",
      "35\n",
      "40\n",
      "45\n",
      "50\n",
      "\n",
      "\n",
      "multiplication table for- 6\n",
      "6\n",
      "12\n",
      "18\n",
      "24\n",
      "30\n",
      "36\n",
      "42\n",
      "48\n",
      "54\n",
      "60\n",
      "\n",
      "\n",
      "******************************\n",
      "end\n",
      "******************************\n"
     ]
    }
   ],
   "source": [
    "for num in range(3,7):\n",
    "    print('multiplication table for-', num)\n",
    "    for i in range(1,11):\n",
    "        print(num * i)\n",
    "        if i ==10:\n",
    "            print('\\n')\n",
    "            \n",
    "else:\n",
    "    print('*' *30)\n",
    "    print('end')\n",
    "    print('*' *30)"
   ]
  },
  {
   "cell_type": "code",
   "execution_count": 80,
   "id": "f4a1503d",
   "metadata": {},
   "outputs": [
    {
     "name": "stdout",
     "output_type": "stream",
     "text": [
      "1 deta Trained\n",
      "2 deta Trained\n",
      "3 deta Trained\n",
      "4 deta Trained\n",
      "5 deta Trained\n",
      "6 deta Trained\n",
      "7 deta Trained\n",
      "8 deta Trained\n",
      "9 deta Trained\n",
      "10 deta Trained\n"
     ]
    }
   ],
   "source": [
    "i = 0\n",
    "\n",
    "while i < 10:\n",
    "    i = i+1\n",
    "    print(i, 'deta Trained')"
   ]
  },
  {
   "cell_type": "code",
   "execution_count": 81,
   "id": "ceab6151",
   "metadata": {},
   "outputs": [
    {
     "name": "stdout",
     "output_type": "stream",
     "text": [
      "1 apple\n",
      "2 apple\n",
      "3 apple\n",
      "4 apple\n",
      "5 apple\n",
      "6 apple\n",
      "7 apple\n",
      "8 apple\n",
      "9 apple\n",
      "10 apple\n",
      "11 apple\n",
      "12 apple\n",
      "13 apple\n",
      "14 apple\n",
      "15 apple\n",
      "16 apple\n",
      "17 apple\n",
      "18 apple\n",
      "19 apple\n",
      "20 apple\n"
     ]
    }
   ],
   "source": [
    "i = 0\n",
    "\n",
    "while i <20:\n",
    "    i = i + 1\n",
    "    print(i, 'apple')"
   ]
  },
  {
   "cell_type": "code",
   "execution_count": 83,
   "id": "1ce7b362",
   "metadata": {},
   "outputs": [
    {
     "name": "stdout",
     "output_type": "stream",
     "text": [
      "time.struct_time(tm_year=2022, tm_mon=12, tm_mday=5, tm_hour=23, tm_min=39, tm_sec=2, tm_wday=0, tm_yday=339, tm_isdst=0)\n"
     ]
    }
   ],
   "source": [
    "import time\n",
    "result = time.localtime()\n",
    "print(result)"
   ]
  },
  {
   "cell_type": "code",
   "execution_count": 86,
   "id": "ef620052",
   "metadata": {},
   "outputs": [
    {
     "name": "stdout",
     "output_type": "stream",
     "text": [
      "wake up\n"
     ]
    }
   ],
   "source": [
    "while True:\n",
    "    result = time.localtime()\n",
    "    if result.tm_hour ==23 and result.tm_min ==45:\n",
    "        print('wake up')\n",
    "        break\n",
    "\n",
    "\n",
    "   \n",
    "  "
   ]
  },
  {
   "cell_type": "code",
   "execution_count": 87,
   "id": "b978fe1c",
   "metadata": {},
   "outputs": [],
   "source": [
    "students = ['ram', 'shyam', 'sumit', 'amit', 'rohit', 'niraj']\n"
   ]
  },
  {
   "cell_type": "code",
   "execution_count": 88,
   "id": "71c5b2ea",
   "metadata": {},
   "outputs": [
    {
     "name": "stdout",
     "output_type": "stream",
     "text": [
      "ram\n",
      "shyam\n",
      "sumit\n",
      "amit\n",
      "rohit\n",
      "niraj\n"
     ]
    }
   ],
   "source": [
    "for name in students:\n",
    "    print(name)"
   ]
  },
  {
   "cell_type": "code",
   "execution_count": 90,
   "id": "23f47efe",
   "metadata": {},
   "outputs": [
    {
     "name": "stdout",
     "output_type": "stream",
     "text": [
      "(0, 'ram')\n",
      "(1, 'shyam')\n",
      "(2, 'sumit')\n",
      "(3, 'amit')\n",
      "(4, 'rohit')\n",
      "(5, 'niraj')\n"
     ]
    }
   ],
   "source": [
    "for name in enumerate(students):\n",
    "    print(name)"
   ]
  },
  {
   "cell_type": "code",
   "execution_count": 91,
   "id": "b1feafa5",
   "metadata": {},
   "outputs": [
    {
     "name": "stdout",
     "output_type": "stream",
     "text": [
      "(1, 'ram')\n",
      "(2, 'shyam')\n",
      "(3, 'sumit')\n",
      "(4, 'amit')\n",
      "(5, 'rohit')\n",
      "(6, 'niraj')\n"
     ]
    }
   ],
   "source": [
    "for name in enumerate(students,1):\n",
    "    print(name)"
   ]
  },
  {
   "cell_type": "code",
   "execution_count": 92,
   "id": "5364af4c",
   "metadata": {},
   "outputs": [
    {
     "name": "stdout",
     "output_type": "stream",
     "text": [
      "(3, 'ram')\n",
      "(4, 'shyam')\n",
      "(5, 'sumit')\n",
      "(6, 'amit')\n",
      "(7, 'rohit')\n",
      "(8, 'niraj')\n"
     ]
    }
   ],
   "source": [
    "for name in enumerate(students,3):\n",
    "    print(name)"
   ]
  },
  {
   "cell_type": "code",
   "execution_count": 93,
   "id": "2c75e51b",
   "metadata": {},
   "outputs": [
    {
     "name": "stdout",
     "output_type": "stream",
     "text": [
      "(100, 'ram')\n",
      "(101, 'shyam')\n",
      "(102, 'sumit')\n",
      "(103, 'amit')\n",
      "(104, 'rohit')\n",
      "(105, 'niraj')\n"
     ]
    }
   ],
   "source": [
    "for name in enumerate(students,100):\n",
    "    print(name)"
   ]
  },
  {
   "cell_type": "code",
   "execution_count": 94,
   "id": "6590a771",
   "metadata": {},
   "outputs": [],
   "source": [
    "students = ['ram', 'shyam', 'sumit', 'amit', 'rohit', 'niraj']\n",
    "\n",
    "marks  = [44,54,66,77,76,56]"
   ]
  },
  {
   "cell_type": "code",
   "execution_count": 101,
   "id": "fce68a20",
   "metadata": {},
   "outputs": [],
   "source": [
    "details = list(zip(students,marks))"
   ]
  },
  {
   "cell_type": "code",
   "execution_count": 96,
   "id": "6ea2b33d",
   "metadata": {},
   "outputs": [
    {
     "data": {
      "text/plain": [
       "[('ram', 44),\n",
       " ('shyam', 54),\n",
       " ('sumit', 66),\n",
       " ('amit', 77),\n",
       " ('rohit', 76),\n",
       " ('niraj', 56)]"
      ]
     },
     "execution_count": 96,
     "metadata": {},
     "output_type": "execute_result"
    }
   ],
   "source": [
    "details"
   ]
  },
  {
   "cell_type": "code",
   "execution_count": 99,
   "id": "6082a97a",
   "metadata": {},
   "outputs": [],
   "source": [
    "students = ['ram', 'shyam', 'sumit', 'amit', 'rohit', 'niraj']"
   ]
  },
  {
   "cell_type": "code",
   "execution_count": 102,
   "id": "b1a7dfd9",
   "metadata": {},
   "outputs": [
    {
     "name": "stdout",
     "output_type": "stream",
     "text": [
      "ram\n",
      "shyam\n",
      "sumit\n",
      "amit\n"
     ]
    }
   ],
   "source": [
    "for val in students:\n",
    "    if val == 'rohit':\n",
    "        break\n",
    "    print(val)"
   ]
  },
  {
   "cell_type": "code",
   "execution_count": 105,
   "id": "7ca3c6bf",
   "metadata": {},
   "outputs": [
    {
     "name": "stdout",
     "output_type": "stream",
     "text": [
      "33000\n",
      "3300\n",
      "43000\n",
      "3400\n",
      "2300\n",
      "33000\n",
      "2300\n",
      "6500\n"
     ]
    }
   ],
   "source": [
    "salary = [33000,3300,43000,3400,2300,33000,2300,6500,65000]\n",
    "for val in salary:\n",
    "    if val> 43000:\n",
    "        continue\n",
    "    print(val)"
   ]
  },
  {
   "cell_type": "code",
   "execution_count": 106,
   "id": "82888c72",
   "metadata": {},
   "outputs": [
    {
     "name": "stdout",
     "output_type": "stream",
     "text": [
      "2300\n",
      "2300\n"
     ]
    }
   ],
   "source": [
    "salary = [33000,3300,43000,3400,2300,33000,2300,6500,65000]\n",
    "\n",
    "for val in salary:\n",
    "    if val in salary:\n",
    "        if val> 2300:\n",
    "            continue\n",
    "        print(val)\n"
   ]
  },
  {
   "cell_type": "code",
   "execution_count": null,
   "id": "7bf83c0d",
   "metadata": {},
   "outputs": [],
   "source": []
  }
 ],
 "metadata": {
  "kernelspec": {
   "display_name": "Python 3 (ipykernel)",
   "language": "python",
   "name": "python3"
  },
  "language_info": {
   "codemirror_mode": {
    "name": "ipython",
    "version": 3
   },
   "file_extension": ".py",
   "mimetype": "text/x-python",
   "name": "python",
   "nbconvert_exporter": "python",
   "pygments_lexer": "ipython3",
   "version": "3.9.12"
  }
 },
 "nbformat": 4,
 "nbformat_minor": 5
}
